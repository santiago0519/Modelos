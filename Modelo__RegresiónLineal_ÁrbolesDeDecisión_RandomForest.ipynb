{
  "nbformat": 4,
  "nbformat_minor": 0,
  "metadata": {
    "colab": {
      "name": "Modelo_ RegresiónLineal_ÁrbolesDeDecisión_RandomForest.ipynb",
      "provenance": []
    },
    "kernelspec": {
      "name": "python3",
      "display_name": "Python 3"
    },
    "language_info": {
      "name": "python"
    }
  },
  "cells": [
    {
      "cell_type": "markdown",
      "source": [
        "# **Regresión lineal**"
      ],
      "metadata": {
        "id": "vFS9uyT9SGi8"
      }
    },
    {
      "cell_type": "markdown",
      "source": [
        "## **Importar librerías**"
      ],
      "metadata": {
        "id": "hCtzKXV8SLwL"
      }
    },
    {
      "cell_type": "code",
      "execution_count": null,
      "metadata": {
        "id": "K1RMem5PRfig"
      },
      "outputs": [],
      "source": [
        "#importar todas las bibliotecas necesarias.\n",
        "import pandas as pd\n",
        "import numpy as np\n",
        "import seaborn as sns\n",
        "import matplotlib.pyplot as plt\n",
        "import seaborn as sns; sns.set()\n",
        "%matplotlib inline\n",
        "sns.set(style='whitegrid')\n",
        "\n",
        "# Selección de características\n",
        "from sklearn.feature_selection import RFE\n",
        "\n",
        "# Escalador\n",
        "from sklearn.preprocessing import MinMaxScaler\n",
        "\n",
        "# Modelado, Evaluación\n",
        "from sklearn.linear_model import LinearRegression\n",
        "from sklearn.model_selection import train_test_split\n",
        "\n",
        "from sklearn import metrics"
      ]
    },
    {
      "cell_type": "markdown",
      "source": [
        "# **Cargar datos**"
      ],
      "metadata": {
        "id": "BBji87CcSX_a"
      }
    },
    {
      "cell_type": "code",
      "source": [
        "# Cargando datos en pandas DataFrame\n",
        "df = pd.read_csv('clean_house_data.csv')\n",
        "df.head()"
      ],
      "metadata": {
        "colab": {
          "base_uri": "https://localhost:8080/",
          "height": 287
        },
        "id": "uhQoPLrRSXvz",
        "outputId": "f7d984fa-09ae-4a27-d64d-0d9d36d21626"
      },
      "execution_count": null,
      "outputs": [
        {
          "output_type": "execute_result",
          "data": {
            "text/html": [
              "\n",
              "  <div id=\"df-cdb40392-f60d-4920-b15d-f9bb72cce19c\">\n",
              "    <div class=\"colab-df-container\">\n",
              "      <div>\n",
              "<style scoped>\n",
              "    .dataframe tbody tr th:only-of-type {\n",
              "        vertical-align: middle;\n",
              "    }\n",
              "\n",
              "    .dataframe tbody tr th {\n",
              "        vertical-align: top;\n",
              "    }\n",
              "\n",
              "    .dataframe thead th {\n",
              "        text-align: right;\n",
              "    }\n",
              "</style>\n",
              "<table border=\"1\" class=\"dataframe\">\n",
              "  <thead>\n",
              "    <tr style=\"text-align: right;\">\n",
              "      <th></th>\n",
              "      <th>Unnamed: 0</th>\n",
              "      <th>price</th>\n",
              "      <th>sqft_living</th>\n",
              "      <th>sqft_lot</th>\n",
              "      <th>sqft_living15</th>\n",
              "      <th>sqft_lot15</th>\n",
              "      <th>yr_built_1930_1960</th>\n",
              "      <th>yr_built_1960_1990</th>\n",
              "      <th>yr_built_1990_2020</th>\n",
              "      <th>condition_2</th>\n",
              "      <th>condition_3</th>\n",
              "      <th>condition_4</th>\n",
              "      <th>condition_5</th>\n",
              "      <th>long_2</th>\n",
              "      <th>long_3</th>\n",
              "      <th>long_4</th>\n",
              "      <th>long_5</th>\n",
              "      <th>long_6</th>\n",
              "      <th>long_7</th>\n",
              "      <th>long_8</th>\n",
              "      <th>long_9</th>\n",
              "      <th>lat_2</th>\n",
              "      <th>lat_3</th>\n",
              "      <th>lat_4</th>\n",
              "      <th>lat_5</th>\n",
              "      <th>lat_6</th>\n",
              "      <th>lat_7</th>\n",
              "      <th>lat_8</th>\n",
              "      <th>lat_9</th>\n",
              "      <th>waterfront_1</th>\n",
              "      <th>floors_2</th>\n",
              "      <th>floors_3</th>\n",
              "      <th>floors_4</th>\n",
              "      <th>view_1</th>\n",
              "      <th>view_2</th>\n",
              "      <th>view_3</th>\n",
              "      <th>view_4</th>\n",
              "      <th>bedrooms_2</th>\n",
              "      <th>bedrooms_3</th>\n",
              "      <th>bedrooms_4</th>\n",
              "      <th>bedrooms_5</th>\n",
              "      <th>bedrooms_6</th>\n",
              "      <th>bedrooms_7</th>\n",
              "      <th>bedrooms_8</th>\n",
              "      <th>bedrooms_9</th>\n",
              "      <th>bedrooms_10</th>\n",
              "      <th>bedrooms_11</th>\n",
              "      <th>bedrooms_33</th>\n",
              "      <th>sqft_basement_1</th>\n",
              "    </tr>\n",
              "  </thead>\n",
              "  <tbody>\n",
              "    <tr>\n",
              "      <th>0</th>\n",
              "      <td>0</td>\n",
              "      <td>-1.524727</td>\n",
              "      <td>-1.109378</td>\n",
              "      <td>-0.517790</td>\n",
              "      <td>-1.037937</td>\n",
              "      <td>-0.517790</td>\n",
              "      <td>1</td>\n",
              "      <td>0</td>\n",
              "      <td>0</td>\n",
              "      <td>0</td>\n",
              "      <td>1</td>\n",
              "      <td>0</td>\n",
              "      <td>0</td>\n",
              "      <td>1</td>\n",
              "      <td>0</td>\n",
              "      <td>0</td>\n",
              "      <td>0</td>\n",
              "      <td>0</td>\n",
              "      <td>0</td>\n",
              "      <td>0</td>\n",
              "      <td>0</td>\n",
              "      <td>0</td>\n",
              "      <td>0</td>\n",
              "      <td>0</td>\n",
              "      <td>0</td>\n",
              "      <td>1</td>\n",
              "      <td>0</td>\n",
              "      <td>0</td>\n",
              "      <td>0</td>\n",
              "      <td>0</td>\n",
              "      <td>0</td>\n",
              "      <td>0</td>\n",
              "      <td>0</td>\n",
              "      <td>0</td>\n",
              "      <td>0</td>\n",
              "      <td>0</td>\n",
              "      <td>0</td>\n",
              "      <td>0</td>\n",
              "      <td>1</td>\n",
              "      <td>0</td>\n",
              "      <td>0</td>\n",
              "      <td>0</td>\n",
              "      <td>0</td>\n",
              "      <td>0</td>\n",
              "      <td>0</td>\n",
              "      <td>0</td>\n",
              "      <td>0</td>\n",
              "      <td>0</td>\n",
              "      <td>0</td>\n",
              "    </tr>\n",
              "    <tr>\n",
              "      <th>1</th>\n",
              "      <td>1</td>\n",
              "      <td>0.325577</td>\n",
              "      <td>0.694311</td>\n",
              "      <td>-0.115464</td>\n",
              "      <td>-0.247134</td>\n",
              "      <td>0.007616</td>\n",
              "      <td>1</td>\n",
              "      <td>0</td>\n",
              "      <td>0</td>\n",
              "      <td>0</td>\n",
              "      <td>1</td>\n",
              "      <td>0</td>\n",
              "      <td>0</td>\n",
              "      <td>1</td>\n",
              "      <td>0</td>\n",
              "      <td>0</td>\n",
              "      <td>0</td>\n",
              "      <td>0</td>\n",
              "      <td>0</td>\n",
              "      <td>0</td>\n",
              "      <td>0</td>\n",
              "      <td>0</td>\n",
              "      <td>0</td>\n",
              "      <td>0</td>\n",
              "      <td>0</td>\n",
              "      <td>0</td>\n",
              "      <td>0</td>\n",
              "      <td>0</td>\n",
              "      <td>1</td>\n",
              "      <td>0</td>\n",
              "      <td>1</td>\n",
              "      <td>0</td>\n",
              "      <td>0</td>\n",
              "      <td>0</td>\n",
              "      <td>0</td>\n",
              "      <td>0</td>\n",
              "      <td>0</td>\n",
              "      <td>0</td>\n",
              "      <td>1</td>\n",
              "      <td>0</td>\n",
              "      <td>0</td>\n",
              "      <td>0</td>\n",
              "      <td>0</td>\n",
              "      <td>0</td>\n",
              "      <td>0</td>\n",
              "      <td>0</td>\n",
              "      <td>0</td>\n",
              "      <td>0</td>\n",
              "      <td>1</td>\n",
              "    </tr>\n",
              "    <tr>\n",
              "      <th>2</th>\n",
              "      <td>2</td>\n",
              "      <td>-2.013671</td>\n",
              "      <td>-2.131682</td>\n",
              "      <td>0.562796</td>\n",
              "      <td>1.064091</td>\n",
              "      <td>0.154186</td>\n",
              "      <td>1</td>\n",
              "      <td>0</td>\n",
              "      <td>0</td>\n",
              "      <td>0</td>\n",
              "      <td>1</td>\n",
              "      <td>0</td>\n",
              "      <td>0</td>\n",
              "      <td>0</td>\n",
              "      <td>1</td>\n",
              "      <td>0</td>\n",
              "      <td>0</td>\n",
              "      <td>0</td>\n",
              "      <td>0</td>\n",
              "      <td>0</td>\n",
              "      <td>0</td>\n",
              "      <td>0</td>\n",
              "      <td>0</td>\n",
              "      <td>0</td>\n",
              "      <td>0</td>\n",
              "      <td>0</td>\n",
              "      <td>0</td>\n",
              "      <td>0</td>\n",
              "      <td>1</td>\n",
              "      <td>0</td>\n",
              "      <td>0</td>\n",
              "      <td>0</td>\n",
              "      <td>0</td>\n",
              "      <td>0</td>\n",
              "      <td>0</td>\n",
              "      <td>0</td>\n",
              "      <td>0</td>\n",
              "      <td>1</td>\n",
              "      <td>0</td>\n",
              "      <td>0</td>\n",
              "      <td>0</td>\n",
              "      <td>0</td>\n",
              "      <td>0</td>\n",
              "      <td>0</td>\n",
              "      <td>0</td>\n",
              "      <td>0</td>\n",
              "      <td>0</td>\n",
              "      <td>0</td>\n",
              "      <td>0</td>\n",
              "    </tr>\n",
              "    <tr>\n",
              "      <th>3</th>\n",
              "      <td>3</td>\n",
              "      <td>0.559811</td>\n",
              "      <td>0.051460</td>\n",
              "      <td>-0.718462</td>\n",
              "      <td>-0.985610</td>\n",
              "      <td>-0.744694</td>\n",
              "      <td>0</td>\n",
              "      <td>1</td>\n",
              "      <td>0</td>\n",
              "      <td>0</td>\n",
              "      <td>0</td>\n",
              "      <td>0</td>\n",
              "      <td>1</td>\n",
              "      <td>0</td>\n",
              "      <td>0</td>\n",
              "      <td>0</td>\n",
              "      <td>0</td>\n",
              "      <td>0</td>\n",
              "      <td>0</td>\n",
              "      <td>0</td>\n",
              "      <td>0</td>\n",
              "      <td>0</td>\n",
              "      <td>0</td>\n",
              "      <td>0</td>\n",
              "      <td>0</td>\n",
              "      <td>1</td>\n",
              "      <td>0</td>\n",
              "      <td>0</td>\n",
              "      <td>0</td>\n",
              "      <td>0</td>\n",
              "      <td>0</td>\n",
              "      <td>0</td>\n",
              "      <td>0</td>\n",
              "      <td>0</td>\n",
              "      <td>0</td>\n",
              "      <td>0</td>\n",
              "      <td>0</td>\n",
              "      <td>0</td>\n",
              "      <td>0</td>\n",
              "      <td>1</td>\n",
              "      <td>0</td>\n",
              "      <td>0</td>\n",
              "      <td>0</td>\n",
              "      <td>0</td>\n",
              "      <td>0</td>\n",
              "      <td>0</td>\n",
              "      <td>0</td>\n",
              "      <td>0</td>\n",
              "      <td>1</td>\n",
              "    </tr>\n",
              "    <tr>\n",
              "      <th>4</th>\n",
              "      <td>4</td>\n",
              "      <td>0.226489</td>\n",
              "      <td>-0.293986</td>\n",
              "      <td>0.128003</td>\n",
              "      <td>-0.062770</td>\n",
              "      <td>-0.040336</td>\n",
              "      <td>0</td>\n",
              "      <td>1</td>\n",
              "      <td>0</td>\n",
              "      <td>0</td>\n",
              "      <td>1</td>\n",
              "      <td>0</td>\n",
              "      <td>0</td>\n",
              "      <td>0</td>\n",
              "      <td>0</td>\n",
              "      <td>1</td>\n",
              "      <td>0</td>\n",
              "      <td>0</td>\n",
              "      <td>0</td>\n",
              "      <td>0</td>\n",
              "      <td>0</td>\n",
              "      <td>0</td>\n",
              "      <td>0</td>\n",
              "      <td>0</td>\n",
              "      <td>0</td>\n",
              "      <td>0</td>\n",
              "      <td>1</td>\n",
              "      <td>0</td>\n",
              "      <td>0</td>\n",
              "      <td>0</td>\n",
              "      <td>0</td>\n",
              "      <td>0</td>\n",
              "      <td>0</td>\n",
              "      <td>0</td>\n",
              "      <td>0</td>\n",
              "      <td>0</td>\n",
              "      <td>0</td>\n",
              "      <td>0</td>\n",
              "      <td>1</td>\n",
              "      <td>0</td>\n",
              "      <td>0</td>\n",
              "      <td>0</td>\n",
              "      <td>0</td>\n",
              "      <td>0</td>\n",
              "      <td>0</td>\n",
              "      <td>0</td>\n",
              "      <td>0</td>\n",
              "      <td>0</td>\n",
              "      <td>0</td>\n",
              "    </tr>\n",
              "  </tbody>\n",
              "</table>\n",
              "</div>\n",
              "      <button class=\"colab-df-convert\" onclick=\"convertToInteractive('df-cdb40392-f60d-4920-b15d-f9bb72cce19c')\"\n",
              "              title=\"Convert this dataframe to an interactive table.\"\n",
              "              style=\"display:none;\">\n",
              "        \n",
              "  <svg xmlns=\"http://www.w3.org/2000/svg\" height=\"24px\"viewBox=\"0 0 24 24\"\n",
              "       width=\"24px\">\n",
              "    <path d=\"M0 0h24v24H0V0z\" fill=\"none\"/>\n",
              "    <path d=\"M18.56 5.44l.94 2.06.94-2.06 2.06-.94-2.06-.94-.94-2.06-.94 2.06-2.06.94zm-11 1L8.5 8.5l.94-2.06 2.06-.94-2.06-.94L8.5 2.5l-.94 2.06-2.06.94zm10 10l.94 2.06.94-2.06 2.06-.94-2.06-.94-.94-2.06-.94 2.06-2.06.94z\"/><path d=\"M17.41 7.96l-1.37-1.37c-.4-.4-.92-.59-1.43-.59-.52 0-1.04.2-1.43.59L10.3 9.45l-7.72 7.72c-.78.78-.78 2.05 0 2.83L4 21.41c.39.39.9.59 1.41.59.51 0 1.02-.2 1.41-.59l7.78-7.78 2.81-2.81c.8-.78.8-2.07 0-2.86zM5.41 20L4 18.59l7.72-7.72 1.47 1.35L5.41 20z\"/>\n",
              "  </svg>\n",
              "      </button>\n",
              "      \n",
              "  <style>\n",
              "    .colab-df-container {\n",
              "      display:flex;\n",
              "      flex-wrap:wrap;\n",
              "      gap: 12px;\n",
              "    }\n",
              "\n",
              "    .colab-df-convert {\n",
              "      background-color: #E8F0FE;\n",
              "      border: none;\n",
              "      border-radius: 50%;\n",
              "      cursor: pointer;\n",
              "      display: none;\n",
              "      fill: #1967D2;\n",
              "      height: 32px;\n",
              "      padding: 0 0 0 0;\n",
              "      width: 32px;\n",
              "    }\n",
              "\n",
              "    .colab-df-convert:hover {\n",
              "      background-color: #E2EBFA;\n",
              "      box-shadow: 0px 1px 2px rgba(60, 64, 67, 0.3), 0px 1px 3px 1px rgba(60, 64, 67, 0.15);\n",
              "      fill: #174EA6;\n",
              "    }\n",
              "\n",
              "    [theme=dark] .colab-df-convert {\n",
              "      background-color: #3B4455;\n",
              "      fill: #D2E3FC;\n",
              "    }\n",
              "\n",
              "    [theme=dark] .colab-df-convert:hover {\n",
              "      background-color: #434B5C;\n",
              "      box-shadow: 0px 1px 3px 1px rgba(0, 0, 0, 0.15);\n",
              "      filter: drop-shadow(0px 1px 2px rgba(0, 0, 0, 0.3));\n",
              "      fill: #FFFFFF;\n",
              "    }\n",
              "  </style>\n",
              "\n",
              "      <script>\n",
              "        const buttonEl =\n",
              "          document.querySelector('#df-cdb40392-f60d-4920-b15d-f9bb72cce19c button.colab-df-convert');\n",
              "        buttonEl.style.display =\n",
              "          google.colab.kernel.accessAllowed ? 'block' : 'none';\n",
              "\n",
              "        async function convertToInteractive(key) {\n",
              "          const element = document.querySelector('#df-cdb40392-f60d-4920-b15d-f9bb72cce19c');\n",
              "          const dataTable =\n",
              "            await google.colab.kernel.invokeFunction('convertToInteractive',\n",
              "                                                     [key], {});\n",
              "          if (!dataTable) return;\n",
              "\n",
              "          const docLinkHtml = 'Like what you see? Visit the ' +\n",
              "            '<a target=\"_blank\" href=https://colab.research.google.com/notebooks/data_table.ipynb>data table notebook</a>'\n",
              "            + ' to learn more about interactive tables.';\n",
              "          element.innerHTML = '';\n",
              "          dataTable['output_type'] = 'display_data';\n",
              "          await google.colab.output.renderOutput(dataTable, element);\n",
              "          const docLink = document.createElement('div');\n",
              "          docLink.innerHTML = docLinkHtml;\n",
              "          element.appendChild(docLink);\n",
              "        }\n",
              "      </script>\n",
              "    </div>\n",
              "  </div>\n",
              "  "
            ],
            "text/plain": [
              "   Unnamed: 0     price  sqft_living  ...  bedrooms_11  bedrooms_33  sqft_basement_1\n",
              "0           0 -1.524727    -1.109378  ...            0            0                0\n",
              "1           1  0.325577     0.694311  ...            0            0                1\n",
              "2           2 -2.013671    -2.131682  ...            0            0                0\n",
              "3           3  0.559811     0.051460  ...            0            0                1\n",
              "4           4  0.226489    -0.293986  ...            0            0                0\n",
              "\n",
              "[5 rows x 49 columns]"
            ]
          },
          "metadata": {},
          "execution_count": 2
        }
      ]
    },
    {
      "cell_type": "code",
      "source": [
        "df.info()"
      ],
      "metadata": {
        "colab": {
          "base_uri": "https://localhost:8080/"
        },
        "id": "BEnWY5m-SjsT",
        "outputId": "0d5850b8-22f9-4787-bd20-1abc5c53b4b5"
      },
      "execution_count": null,
      "outputs": [
        {
          "output_type": "stream",
          "name": "stdout",
          "text": [
            "<class 'pandas.core.frame.DataFrame'>\n",
            "RangeIndex: 21597 entries, 0 to 21596\n",
            "Data columns (total 49 columns):\n",
            " #   Column              Non-Null Count  Dtype  \n",
            "---  ------              --------------  -----  \n",
            " 0   Unnamed: 0          21597 non-null  int64  \n",
            " 1   price               21597 non-null  float64\n",
            " 2   sqft_living         21597 non-null  float64\n",
            " 3   sqft_lot            21597 non-null  float64\n",
            " 4   sqft_living15       21597 non-null  float64\n",
            " 5   sqft_lot15          21597 non-null  float64\n",
            " 6   yr_built_1930_1960  21597 non-null  int64  \n",
            " 7   yr_built_1960_1990  21597 non-null  int64  \n",
            " 8   yr_built_1990_2020  21597 non-null  int64  \n",
            " 9   condition_2         21597 non-null  int64  \n",
            " 10  condition_3         21597 non-null  int64  \n",
            " 11  condition_4         21597 non-null  int64  \n",
            " 12  condition_5         21597 non-null  int64  \n",
            " 13  long_2              21597 non-null  int64  \n",
            " 14  long_3              21597 non-null  int64  \n",
            " 15  long_4              21597 non-null  int64  \n",
            " 16  long_5              21597 non-null  int64  \n",
            " 17  long_6              21597 non-null  int64  \n",
            " 18  long_7              21597 non-null  int64  \n",
            " 19  long_8              21597 non-null  int64  \n",
            " 20  long_9              21597 non-null  int64  \n",
            " 21  lat_2               21597 non-null  int64  \n",
            " 22  lat_3               21597 non-null  int64  \n",
            " 23  lat_4               21597 non-null  int64  \n",
            " 24  lat_5               21597 non-null  int64  \n",
            " 25  lat_6               21597 non-null  int64  \n",
            " 26  lat_7               21597 non-null  int64  \n",
            " 27  lat_8               21597 non-null  int64  \n",
            " 28  lat_9               21597 non-null  int64  \n",
            " 29  waterfront_1        21597 non-null  int64  \n",
            " 30  floors_2            21597 non-null  int64  \n",
            " 31  floors_3            21597 non-null  int64  \n",
            " 32  floors_4            21597 non-null  int64  \n",
            " 33  view_1              21597 non-null  int64  \n",
            " 34  view_2              21597 non-null  int64  \n",
            " 35  view_3              21597 non-null  int64  \n",
            " 36  view_4              21597 non-null  int64  \n",
            " 37  bedrooms_2          21597 non-null  int64  \n",
            " 38  bedrooms_3          21597 non-null  int64  \n",
            " 39  bedrooms_4          21597 non-null  int64  \n",
            " 40  bedrooms_5          21597 non-null  int64  \n",
            " 41  bedrooms_6          21597 non-null  int64  \n",
            " 42  bedrooms_7          21597 non-null  int64  \n",
            " 43  bedrooms_8          21597 non-null  int64  \n",
            " 44  bedrooms_9          21597 non-null  int64  \n",
            " 45  bedrooms_10         21597 non-null  int64  \n",
            " 46  bedrooms_11         21597 non-null  int64  \n",
            " 47  bedrooms_33         21597 non-null  int64  \n",
            " 48  sqft_basement_1     21597 non-null  int64  \n",
            "dtypes: float64(5), int64(44)\n",
            "memory usage: 8.1 MB\n"
          ]
        }
      ]
    },
    {
      "cell_type": "code",
      "source": [
        "df.isna().sum()"
      ],
      "metadata": {
        "colab": {
          "base_uri": "https://localhost:8080/"
        },
        "id": "9Z1p_fjRSrwk",
        "outputId": "6744491d-85c2-4d2a-d4c2-45ab8a695f5f"
      },
      "execution_count": null,
      "outputs": [
        {
          "output_type": "execute_result",
          "data": {
            "text/plain": [
              "Unnamed: 0            0\n",
              "price                 0\n",
              "sqft_living           0\n",
              "sqft_lot              0\n",
              "sqft_living15         0\n",
              "sqft_lot15            0\n",
              "yr_built_1930_1960    0\n",
              "yr_built_1960_1990    0\n",
              "yr_built_1990_2020    0\n",
              "condition_2           0\n",
              "condition_3           0\n",
              "condition_4           0\n",
              "condition_5           0\n",
              "long_2                0\n",
              "long_3                0\n",
              "long_4                0\n",
              "long_5                0\n",
              "long_6                0\n",
              "long_7                0\n",
              "long_8                0\n",
              "long_9                0\n",
              "lat_2                 0\n",
              "lat_3                 0\n",
              "lat_4                 0\n",
              "lat_5                 0\n",
              "lat_6                 0\n",
              "lat_7                 0\n",
              "lat_8                 0\n",
              "lat_9                 0\n",
              "waterfront_1          0\n",
              "floors_2              0\n",
              "floors_3              0\n",
              "floors_4              0\n",
              "view_1                0\n",
              "view_2                0\n",
              "view_3                0\n",
              "view_4                0\n",
              "bedrooms_2            0\n",
              "bedrooms_3            0\n",
              "bedrooms_4            0\n",
              "bedrooms_5            0\n",
              "bedrooms_6            0\n",
              "bedrooms_7            0\n",
              "bedrooms_8            0\n",
              "bedrooms_9            0\n",
              "bedrooms_10           0\n",
              "bedrooms_11           0\n",
              "bedrooms_33           0\n",
              "sqft_basement_1       0\n",
              "dtype: int64"
            ]
          },
          "metadata": {},
          "execution_count": 4
        }
      ]
    },
    {
      "cell_type": "code",
      "source": [
        "def modelRegresionLineal(y, X, datos):\n",
        "\n",
        "    X_train, X_test, y_train, y_test = train_test_split(X, y, test_size=0.33)\n",
        "\n",
        "    linregresion = LinearRegression()\n",
        "    linregresion.fit(X_train, y_train)\n",
        "\n",
        "   #Cálculo de predicciones en el conjunto de entrenamiento y en el conjunto de prueba\n",
        "    y_hat_train = linregresion.predict(X_train)\n",
        "    y_hat_test = linregresion.predict(X_test)\n",
        "\n",
        "    #Calculando los residuos\n",
        "    train_residuals = y_hat_train - y_train\n",
        "    test_residuals = y_hat_test - y_test  \n",
        "\n",
        "    #Cálculo del error cuadrático medio\n",
        "    from sklearn.metrics import mean_squared_error\n",
        "    train_mse = mean_squared_error(y_train, y_hat_train)\n",
        "    test_mse = mean_squared_error(y_test, y_hat_test)\n",
        "\n",
        "    #Grafico de disperción para comprar la relacion entre los datos de prueba y los datos pronosticados \n",
        "    plt.figure(figsize=(12,5))\n",
        "    sns.regplot(y_test,y_hat_test,datos,color='purple')\n",
        "    plt.xlabel(\"PRECIOS DE PRUEBA\")\n",
        "    plt.ylabel(\"PRECIOS PREVISTOS\")\n",
        "    plt.title(\"CURVA DE REGRESIÓN LINEAL\")\n",
        "    plt.savefig(\"RegresionLineal\")\n",
        "\n",
        "    print('R^2 Puntaje:',round(linregresion.score(X, y),2))\n",
        "    print('Error cuadrático medio sobre datos entrenamiento:', train_mse)\n",
        "    print('Error cuadrático medio sobre datos de Prueba:', test_mse)\n",
        "\n",
        "    # Visualización de selección de 100 precios de casas\n",
        "    plt.figure(figsize=(16,6))\n",
        "    sns.scatterplot(range(len(y_hat_test[:100])), y_hat_test[:100], label='Precios pronosticados')\n",
        "    sns.scatterplot(range(len(y_hat_test[:100])), y_test[:100], label='Precios reales')\n",
        "    plt.title('Comparación del precio previsto con el precio real', fontdict={'fontsize': 15}), plt.xlabel('Observacion'), plt.ylabel('Precios')\n",
        "    plt.legend(), plt.show()\n",
        "    return (linregresion)"
      ],
      "metadata": {
        "id": "BYPnlqOiSibj"
      },
      "execution_count": null,
      "outputs": []
    },
    {
      "cell_type": "code",
      "source": [
        "#definiendo el objetivo y los predictores\n",
        "y = df.price\n",
        "X = df.drop(['price'], axis=1)\n",
        "\n",
        "#Ejecutar el modelo con la funcion de Regresión lineal\n",
        "modelRegresionLineal(y,X,df)"
      ],
      "metadata": {
        "colab": {
          "base_uri": "https://localhost:8080/",
          "height": 945
        },
        "id": "wfIuKf7AXml9",
        "outputId": "2ddcac74-a73b-4663-b24f-4d2c547cf57a"
      },
      "execution_count": null,
      "outputs": [
        {
          "output_type": "stream",
          "name": "stderr",
          "text": [
            "/usr/local/lib/python3.7/dist-packages/seaborn/_decorators.py:43: FutureWarning: Pass the following variables as keyword args: x, y, data. From version 0.12, the only valid positional argument will be `data`, and passing other arguments without an explicit keyword will result in an error or misinterpretation.\n",
            "  FutureWarning\n"
          ]
        },
        {
          "output_type": "stream",
          "name": "stdout",
          "text": [
            "R^2 Puntaje: 0.81\n",
            "Error cuadrático medio sobre datos entrenamiento: 0.18869945543729796\n",
            "Error cuadrático medio sobre datos de Prueba: 0.19406018169080316\n"
          ]
        },
        {
          "output_type": "stream",
          "name": "stderr",
          "text": [
            "/usr/local/lib/python3.7/dist-packages/seaborn/_decorators.py:43: FutureWarning: Pass the following variables as keyword args: x, y. From version 0.12, the only valid positional argument will be `data`, and passing other arguments without an explicit keyword will result in an error or misinterpretation.\n",
            "  FutureWarning\n",
            "/usr/local/lib/python3.7/dist-packages/seaborn/_decorators.py:43: FutureWarning: Pass the following variables as keyword args: x, y. From version 0.12, the only valid positional argument will be `data`, and passing other arguments without an explicit keyword will result in an error or misinterpretation.\n",
            "  FutureWarning\n"
          ]
        },
        {
          "output_type": "display_data",
          "data": {
            "image/png": "[encoded data removed]",
            "text/plain": [
              "<Figure size 864x360 with 1 Axes>"
            ]
          },
          "metadata": {
            "needs_background": "light"
          }
        },
        {
          "output_type": "display_data",
          "data": {
            "image/png": "[encoded data removed]",
            "text/plain": [
              "<Figure size 1152x432 with 1 Axes>"
            ]
          },
          "metadata": {
            "needs_background": "light"
          }
        },
        {
          "output_type": "execute_result",
          "data": {
            "text/plain": [
              "LinearRegression()"
            ]
          },
          "metadata": {},
          "execution_count": 6
        }
      ]
    },
    {
      "cell_type": "markdown",
      "source": [
        "# **ÁRBOL DE DECISIÓN CLASIFICACIÓN**"
      ],
      "metadata": {
        "id": "I3peJG4HcTCN"
      }
    },
    {
      "cell_type": "markdown",
      "source": [
        "Ingeniería de características básicas para crear una columna etiquetada llamada newPrice para aprendizaje supervisado "
      ],
      "metadata": {
        "id": "MMJsBTEQiVRv"
      }
    },
    {
      "cell_type": "code",
      "source": [
        "from sklearn.tree import DecisionTreeClassifier"
      ],
      "metadata": {
        "id": "gZXSjB6EcVdG"
      },
      "execution_count": null,
      "outputs": []
    },
    {
      "cell_type": "code",
      "source": [
        "df['price'].mean()"
      ],
      "metadata": {
        "colab": {
          "base_uri": "https://localhost:8080/"
        },
        "id": "6qCFtLgTjIRg",
        "outputId": "93d049a9-9866-4a4f-cb30-af61287985aa"
      },
      "execution_count": null,
      "outputs": [
        {
          "output_type": "execute_result",
          "data": {
            "text/plain": [
              "-0.00013345197382463403"
            ]
          },
          "metadata": {},
          "execution_count": 8
        }
      ]
    },
    {
      "cell_type": "code",
      "source": [
        "def valores(price):\n",
        "    if price > -0.00013345197382463403:\n",
        "        return 1\n",
        "    else:\n",
        "        return 0\n",
        "df['newPrice']=df['price'].apply(valores)\n"
      ],
      "metadata": {
        "id": "oNDMyyZEiWY3"
      },
      "execution_count": null,
      "outputs": []
    },
    {
      "cell_type": "code",
      "source": [
        "df.head(2)"
      ],
      "metadata": {
        "colab": {
          "base_uri": "https://localhost:8080/",
          "height": 194
        },
        "id": "dSlD0wTCGUP6",
        "outputId": "5aa46860-c6c6-487b-fd31-a3126ecf7d4e"
      },
      "execution_count": null,
      "outputs": [
        {
          "output_type": "execute_result",
          "data": {
            "text/html": [
              "\n",
              "  <div id=\"df-9c9d4d10-a3c1-46d0-b53e-565256cb0ff9\">\n",
              "    <div class=\"colab-df-container\">\n",
              "      <div>\n",
              "<style scoped>\n",
              "    .dataframe tbody tr th:only-of-type {\n",
              "        vertical-align: middle;\n",
              "    }\n",
              "\n",
              "    .dataframe tbody tr th {\n",
              "        vertical-align: top;\n",
              "    }\n",
              "\n",
              "    .dataframe thead th {\n",
              "        text-align: right;\n",
              "    }\n",
              "</style>\n",
              "<table border=\"1\" class=\"dataframe\">\n",
              "  <thead>\n",
              "    <tr style=\"text-align: right;\">\n",
              "      <th></th>\n",
              "      <th>Unnamed: 0</th>\n",
              "      <th>price</th>\n",
              "      <th>sqft_living</th>\n",
              "      <th>sqft_lot</th>\n",
              "      <th>sqft_living15</th>\n",
              "      <th>sqft_lot15</th>\n",
              "      <th>yr_built_1930_1960</th>\n",
              "      <th>yr_built_1960_1990</th>\n",
              "      <th>yr_built_1990_2020</th>\n",
              "      <th>condition_2</th>\n",
              "      <th>condition_3</th>\n",
              "      <th>condition_4</th>\n",
              "      <th>condition_5</th>\n",
              "      <th>long_2</th>\n",
              "      <th>long_3</th>\n",
              "      <th>long_4</th>\n",
              "      <th>long_5</th>\n",
              "      <th>long_6</th>\n",
              "      <th>long_7</th>\n",
              "      <th>long_8</th>\n",
              "      <th>long_9</th>\n",
              "      <th>lat_2</th>\n",
              "      <th>lat_3</th>\n",
              "      <th>lat_4</th>\n",
              "      <th>lat_5</th>\n",
              "      <th>lat_6</th>\n",
              "      <th>lat_7</th>\n",
              "      <th>lat_8</th>\n",
              "      <th>lat_9</th>\n",
              "      <th>waterfront_1</th>\n",
              "      <th>floors_2</th>\n",
              "      <th>floors_3</th>\n",
              "      <th>floors_4</th>\n",
              "      <th>view_1</th>\n",
              "      <th>view_2</th>\n",
              "      <th>view_3</th>\n",
              "      <th>view_4</th>\n",
              "      <th>bedrooms_2</th>\n",
              "      <th>bedrooms_3</th>\n",
              "      <th>bedrooms_4</th>\n",
              "      <th>bedrooms_5</th>\n",
              "      <th>bedrooms_6</th>\n",
              "      <th>bedrooms_7</th>\n",
              "      <th>bedrooms_8</th>\n",
              "      <th>bedrooms_9</th>\n",
              "      <th>bedrooms_10</th>\n",
              "      <th>bedrooms_11</th>\n",
              "      <th>bedrooms_33</th>\n",
              "      <th>sqft_basement_1</th>\n",
              "      <th>newPrice</th>\n",
              "    </tr>\n",
              "  </thead>\n",
              "  <tbody>\n",
              "    <tr>\n",
              "      <th>0</th>\n",
              "      <td>0</td>\n",
              "      <td>-1.524727</td>\n",
              "      <td>-1.109378</td>\n",
              "      <td>-0.517790</td>\n",
              "      <td>-1.037937</td>\n",
              "      <td>-0.517790</td>\n",
              "      <td>1</td>\n",
              "      <td>0</td>\n",
              "      <td>0</td>\n",
              "      <td>0</td>\n",
              "      <td>1</td>\n",
              "      <td>0</td>\n",
              "      <td>0</td>\n",
              "      <td>1</td>\n",
              "      <td>0</td>\n",
              "      <td>0</td>\n",
              "      <td>0</td>\n",
              "      <td>0</td>\n",
              "      <td>0</td>\n",
              "      <td>0</td>\n",
              "      <td>0</td>\n",
              "      <td>0</td>\n",
              "      <td>0</td>\n",
              "      <td>0</td>\n",
              "      <td>0</td>\n",
              "      <td>1</td>\n",
              "      <td>0</td>\n",
              "      <td>0</td>\n",
              "      <td>0</td>\n",
              "      <td>0</td>\n",
              "      <td>0</td>\n",
              "      <td>0</td>\n",
              "      <td>0</td>\n",
              "      <td>0</td>\n",
              "      <td>0</td>\n",
              "      <td>0</td>\n",
              "      <td>0</td>\n",
              "      <td>0</td>\n",
              "      <td>1</td>\n",
              "      <td>0</td>\n",
              "      <td>0</td>\n",
              "      <td>0</td>\n",
              "      <td>0</td>\n",
              "      <td>0</td>\n",
              "      <td>0</td>\n",
              "      <td>0</td>\n",
              "      <td>0</td>\n",
              "      <td>0</td>\n",
              "      <td>0</td>\n",
              "      <td>0</td>\n",
              "    </tr>\n",
              "    <tr>\n",
              "      <th>1</th>\n",
              "      <td>1</td>\n",
              "      <td>0.325577</td>\n",
              "      <td>0.694311</td>\n",
              "      <td>-0.115464</td>\n",
              "      <td>-0.247134</td>\n",
              "      <td>0.007616</td>\n",
              "      <td>1</td>\n",
              "      <td>0</td>\n",
              "      <td>0</td>\n",
              "      <td>0</td>\n",
              "      <td>1</td>\n",
              "      <td>0</td>\n",
              "      <td>0</td>\n",
              "      <td>1</td>\n",
              "      <td>0</td>\n",
              "      <td>0</td>\n",
              "      <td>0</td>\n",
              "      <td>0</td>\n",
              "      <td>0</td>\n",
              "      <td>0</td>\n",
              "      <td>0</td>\n",
              "      <td>0</td>\n",
              "      <td>0</td>\n",
              "      <td>0</td>\n",
              "      <td>0</td>\n",
              "      <td>0</td>\n",
              "      <td>0</td>\n",
              "      <td>0</td>\n",
              "      <td>1</td>\n",
              "      <td>0</td>\n",
              "      <td>1</td>\n",
              "      <td>0</td>\n",
              "      <td>0</td>\n",
              "      <td>0</td>\n",
              "      <td>0</td>\n",
              "      <td>0</td>\n",
              "      <td>0</td>\n",
              "      <td>0</td>\n",
              "      <td>1</td>\n",
              "      <td>0</td>\n",
              "      <td>0</td>\n",
              "      <td>0</td>\n",
              "      <td>0</td>\n",
              "      <td>0</td>\n",
              "      <td>0</td>\n",
              "      <td>0</td>\n",
              "      <td>0</td>\n",
              "      <td>0</td>\n",
              "      <td>1</td>\n",
              "      <td>1</td>\n",
              "    </tr>\n",
              "  </tbody>\n",
              "</table>\n",
              "</div>\n",
              "      <button class=\"colab-df-convert\" onclick=\"convertToInteractive('df-9c9d4d10-a3c1-46d0-b53e-565256cb0ff9')\"\n",
              "              title=\"Convert this dataframe to an interactive table.\"\n",
              "              style=\"display:none;\">\n",
              "        \n",
              "  <svg xmlns=\"http://www.w3.org/2000/svg\" height=\"24px\"viewBox=\"0 0 24 24\"\n",
              "       width=\"24px\">\n",
              "    <path d=\"M0 0h24v24H0V0z\" fill=\"none\"/>\n",
              "    <path d=\"M18.56 5.44l.94 2.06.94-2.06 2.06-.94-2.06-.94-.94-2.06-.94 2.06-2.06.94zm-11 1L8.5 8.5l.94-2.06 2.06-.94-2.06-.94L8.5 2.5l-.94 2.06-2.06.94zm10 10l.94 2.06.94-2.06 2.06-.94-2.06-.94-.94-2.06-.94 2.06-2.06.94z\"/><path d=\"M17.41 7.96l-1.37-1.37c-.4-.4-.92-.59-1.43-.59-.52 0-1.04.2-1.43.59L10.3 9.45l-7.72 7.72c-.78.78-.78 2.05 0 2.83L4 21.41c.39.39.9.59 1.41.59.51 0 1.02-.2 1.41-.59l7.78-7.78 2.81-2.81c.8-.78.8-2.07 0-2.86zM5.41 20L4 18.59l7.72-7.72 1.47 1.35L5.41 20z\"/>\n",
              "  </svg>\n",
              "      </button>\n",
              "      \n",
              "  <style>\n",
              "    .colab-df-container {\n",
              "      display:flex;\n",
              "      flex-wrap:wrap;\n",
              "      gap: 12px;\n",
              "    }\n",
              "\n",
              "    .colab-df-convert {\n",
              "      background-color: #E8F0FE;\n",
              "      border: none;\n",
              "      border-radius: 50%;\n",
              "      cursor: pointer;\n",
              "      display: none;\n",
              "      fill: #1967D2;\n",
              "      height: 32px;\n",
              "      padding: 0 0 0 0;\n",
              "      width: 32px;\n",
              "    }\n",
              "\n",
              "    .colab-df-convert:hover {\n",
              "      background-color: #E2EBFA;\n",
              "      box-shadow: 0px 1px 2px rgba(60, 64, 67, 0.3), 0px 1px 3px 1px rgba(60, 64, 67, 0.15);\n",
              "      fill: #174EA6;\n",
              "    }\n",
              "\n",
              "    [theme=dark] .colab-df-convert {\n",
              "      background-color: #3B4455;\n",
              "      fill: #D2E3FC;\n",
              "    }\n",
              "\n",
              "    [theme=dark] .colab-df-convert:hover {\n",
              "      background-color: #434B5C;\n",
              "      box-shadow: 0px 1px 3px 1px rgba(0, 0, 0, 0.15);\n",
              "      filter: drop-shadow(0px 1px 2px rgba(0, 0, 0, 0.3));\n",
              "      fill: #FFFFFF;\n",
              "    }\n",
              "  </style>\n",
              "\n",
              "      <script>\n",
              "        const buttonEl =\n",
              "          document.querySelector('#df-9c9d4d10-a3c1-46d0-b53e-565256cb0ff9 button.colab-df-convert');\n",
              "        buttonEl.style.display =\n",
              "          google.colab.kernel.accessAllowed ? 'block' : 'none';\n",
              "\n",
              "        async function convertToInteractive(key) {\n",
              "          const element = document.querySelector('#df-9c9d4d10-a3c1-46d0-b53e-565256cb0ff9');\n",
              "          const dataTable =\n",
              "            await google.colab.kernel.invokeFunction('convertToInteractive',\n",
              "                                                     [key], {});\n",
              "          if (!dataTable) return;\n",
              "\n",
              "          const docLinkHtml = 'Like what you see? Visit the ' +\n",
              "            '<a target=\"_blank\" href=https://colab.research.google.com/notebooks/data_table.ipynb>data table notebook</a>'\n",
              "            + ' to learn more about interactive tables.';\n",
              "          element.innerHTML = '';\n",
              "          dataTable['output_type'] = 'display_data';\n",
              "          await google.colab.output.renderOutput(dataTable, element);\n",
              "          const docLink = document.createElement('div');\n",
              "          docLink.innerHTML = docLinkHtml;\n",
              "          element.appendChild(docLink);\n",
              "        }\n",
              "      </script>\n",
              "    </div>\n",
              "  </div>\n",
              "  "
            ],
            "text/plain": [
              "   Unnamed: 0     price  sqft_living  ...  bedrooms_33  sqft_basement_1  newPrice\n",
              "0           0 -1.524727    -1.109378  ...            0                0         0\n",
              "1           1  0.325577     0.694311  ...            0                1         1\n",
              "\n",
              "[2 rows x 50 columns]"
            ]
          },
          "metadata": {},
          "execution_count": 10
        }
      ]
    },
    {
      "cell_type": "code",
      "source": [
        "y = df['newPrice']"
      ],
      "metadata": {
        "id": "0y7a36h0mEB7"
      },
      "execution_count": null,
      "outputs": []
    },
    {
      "cell_type": "code",
      "source": [
        "dectree = DecisionTreeClassifier()"
      ],
      "metadata": {
        "id": "89H32Q01l5Jo"
      },
      "execution_count": null,
      "outputs": []
    },
    {
      "cell_type": "code",
      "source": [
        "X_train, X_test, y_train, y_test = train_test_split(X,y,test_size=0.3,random_state=101)"
      ],
      "metadata": {
        "id": "H3gcniXNl6tw"
      },
      "execution_count": null,
      "outputs": []
    },
    {
      "cell_type": "code",
      "source": [
        "dectree = dectree.fit(X_train,y_train)"
      ],
      "metadata": {
        "id": "PlBYnXrCl8UA"
      },
      "execution_count": null,
      "outputs": []
    },
    {
      "cell_type": "code",
      "source": [
        "pred = dectree.predict(X_test)"
      ],
      "metadata": {
        "id": "N8Op3e92l92Q"
      },
      "execution_count": null,
      "outputs": []
    },
    {
      "cell_type": "markdown",
      "source": [
        "**ANÁLISIS DE RENDIMIENTO**"
      ],
      "metadata": {
        "id": "Y4ZSKXxhocsB"
      }
    },
    {
      "cell_type": "code",
      "source": [
        "from sklearn.metrics import confusion_matrix,classification_report\n",
        "\n",
        "print(\"\\nINFORME DE CLASIFICACIÓN:\\n\\n\",classification_report(y_test,pred))\n",
        "print(\"\\nMATRIZ DE CONFUSIÓN: \\n\\n\",confusion_matrix(y_test,pred))"
      ],
      "metadata": {
        "colab": {
          "base_uri": "https://localhost:8080/"
        },
        "id": "7KyaehT2l_dg",
        "outputId": "f35762cd-7a9d-47b4-9345-97ffec4fc843"
      },
      "execution_count": null,
      "outputs": [
        {
          "output_type": "stream",
          "name": "stdout",
          "text": [
            "\n",
            "INFORME DE CLASIFICACIÓN:\n",
            "\n",
            "               precision    recall  f1-score   support\n",
            "\n",
            "           0       0.85      0.84      0.84      3288\n",
            "           1       0.83      0.85      0.84      3192\n",
            "\n",
            "    accuracy                           0.84      6480\n",
            "   macro avg       0.84      0.84      0.84      6480\n",
            "weighted avg       0.84      0.84      0.84      6480\n",
            "\n",
            "\n",
            "MATRIZ DE CONFUSIÓN: \n",
            "\n",
            " [[2749  539]\n",
            " [ 484 2708]]\n"
          ]
        }
      ]
    },
    {
      "cell_type": "code",
      "source": [
        "### Evaluar el modelo\n",
        " \n",
        "print(\"MSE: \", metrics.mean_squared_error(y_test, pred))\n",
        "\n",
        "# Accuracy: ¿con qué frecuencia es correcto el clasificador?\n",
        "print(\"Accuracy:\", metrics.accuracy_score(y_test, pred))\n",
        "\n",
        "# Precision: ¿qué porcentaje de tuplas positivas se etiquetan como tales?\n",
        "print(\"Precision:\", metrics.precision_score(y_test, pred))\n",
        "\n",
        "#  Recall: ¿qué porcentaje de tuplas positivas están etiquetadas como tales?\n",
        "print(\"Recall:\", metrics.recall_score(y_test, pred))"
      ],
      "metadata": {
        "colab": {
          "base_uri": "https://localhost:8080/"
        },
        "id": "VXQp-026-Pqu",
        "outputId": "ffe3e8cc-f750-40cd-88f9-31bf47f8c9fd"
      },
      "execution_count": null,
      "outputs": [
        {
          "output_type": "stream",
          "name": "stdout",
          "text": [
            "MSE:  0.15787037037037038\n",
            "Accuracy: 0.8421296296296297\n",
            "Precision: 0.8340006159531875\n",
            "Recall: 0.8483709273182958\n"
          ]
        }
      ]
    },
    {
      "cell_type": "markdown",
      "source": [
        "# **RANDOM FOREST CLASIFICACIÓN**"
      ],
      "metadata": {
        "id": "m4dY5eMrkV3g"
      }
    },
    {
      "cell_type": "code",
      "source": [
        "from sklearn.ensemble import RandomForestClassifier"
      ],
      "metadata": {
        "id": "Xo0pamPKoF1q"
      },
      "execution_count": null,
      "outputs": []
    },
    {
      "cell_type": "code",
      "source": [
        "rfc = RandomForestClassifier(n_estimators=300)"
      ],
      "metadata": {
        "id": "yAZ1RRPAoN2Y"
      },
      "execution_count": null,
      "outputs": []
    },
    {
      "cell_type": "code",
      "source": [
        "rfc.fit(X_train,y_train)"
      ],
      "metadata": {
        "colab": {
          "base_uri": "https://localhost:8080/"
        },
        "id": "V5JgnjRMoPXY",
        "outputId": "78a28c11-df72-420c-95ca-32bfc2e8a098"
      },
      "execution_count": null,
      "outputs": [
        {
          "output_type": "execute_result",
          "data": {
            "text/plain": [
              "RandomForestClassifier(n_estimators=300)"
            ]
          },
          "metadata": {},
          "execution_count": 20
        }
      ]
    },
    {
      "cell_type": "code",
      "source": [
        "preds = rfc.predict(X_test)"
      ],
      "metadata": {
        "id": "uYQ_QSimoSZA"
      },
      "execution_count": null,
      "outputs": []
    },
    {
      "cell_type": "code",
      "source": [
        "preds"
      ],
      "metadata": {
        "colab": {
          "base_uri": "https://localhost:8080/"
        },
        "id": "akAEzmXMoTct",
        "outputId": "4dab7f0c-7357-4150-9180-1d9c6fdaf459"
      },
      "execution_count": null,
      "outputs": [
        {
          "output_type": "execute_result",
          "data": {
            "text/plain": [
              "array([0, 1, 1, ..., 0, 0, 1])"
            ]
          },
          "metadata": {},
          "execution_count": 22
        }
      ]
    },
    {
      "cell_type": "markdown",
      "source": [
        "**ANÁLISIS DE RENDIMIENTO**"
      ],
      "metadata": {
        "id": "L31wFMDpoYlb"
      }
    },
    {
      "cell_type": "code",
      "source": [
        "print(\"\\nCLASSIFICATION REPORT:\\n\\n\",classification_report(y_test,preds))\n",
        "print(\"\\nCONFUSION MATRIX: \\n\\n\",confusion_matrix(y_test,preds))"
      ],
      "metadata": {
        "colab": {
          "base_uri": "https://localhost:8080/"
        },
        "id": "x-eT_8YroU7w",
        "outputId": "8741c08e-00be-4510-d06e-f3989f9bdd90"
      },
      "execution_count": null,
      "outputs": [
        {
          "output_type": "stream",
          "name": "stdout",
          "text": [
            "\n",
            "CLASSIFICATION REPORT:\n",
            "\n",
            "               precision    recall  f1-score   support\n",
            "\n",
            "           0       0.90      0.88      0.89      3288\n",
            "           1       0.88      0.90      0.89      3192\n",
            "\n",
            "    accuracy                           0.89      6480\n",
            "   macro avg       0.89      0.89      0.89      6480\n",
            "weighted avg       0.89      0.89      0.89      6480\n",
            "\n",
            "\n",
            "CONFUSION MATRIX: \n",
            "\n",
            " [[2909  379]\n",
            " [ 321 2871]]\n"
          ]
        }
      ]
    },
    {
      "cell_type": "code",
      "source": [
        "### Evaluar el modelo\n",
        "\n",
        "print(\"MSE: \", metrics.mean_squared_error(y_test, preds))\n",
        "\n",
        "# Accuracy: ¿con qué frecuencia es correcto el clasificador?\n",
        "print(\"Accuracy:\", metrics.accuracy_score(y_test, preds))\n",
        "\n",
        "# Precision: ¿qué porcentaje de tuplas positivas se etiquetan como tales?\n",
        "print(\"Precision:\", metrics.precision_score(y_test, preds))\n",
        "\n",
        "#  Recall: ¿qué porcentaje de tuplas positivas están etiquetadas como tales?\n",
        "print(\"Recall:\", metrics.recall_score(y_test, preds))"
      ],
      "metadata": {
        "colab": {
          "base_uri": "https://localhost:8080/"
        },
        "id": "QeUDF0O9-fOF",
        "outputId": "82a27970-316e-4bca-e033-b92f7846f367"
      },
      "execution_count": null,
      "outputs": [
        {
          "output_type": "stream",
          "name": "stdout",
          "text": [
            "MSE:  0.10802469135802469\n",
            "Accuracy: 0.8919753086419753\n",
            "Precision: 0.8833846153846154\n",
            "Recall: 0.8994360902255639\n"
          ]
        }
      ]
    }
  ]
}